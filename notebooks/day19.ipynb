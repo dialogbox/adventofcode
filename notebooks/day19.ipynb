{
 "cells": [
  {
   "cell_type": "code",
   "execution_count": 41,
   "id": "946406a9-f8cb-4d8c-abbd-e83f48db6b7c",
   "metadata": {},
   "outputs": [],
   "source": [
    "import copy\n",
    "import numpy as np\n",
    "import math\n",
    "\n",
    "\n",
    "def distance(p1, p2):\n",
    "    return math.sqrt(np.sum((p1-p2)**2))\n",
    "\n",
    "\n",
    "def parse_input(filename):\n",
    "    lines = open(filename, 'r').read().splitlines()\n",
    "\n",
    "    result = []\n",
    "    scanner = []\n",
    "\n",
    "    for line in lines:\n",
    "        if line.startswith(\"---\"):\n",
    "            continue\n",
    "        if line == \"\":\n",
    "            result.append(np.array(scanner))\n",
    "            scanner = []\n",
    "            continue\n",
    "\n",
    "        t = line.split(\",\")\n",
    "        scanner.append([int(t[0]), int(t[1]), int(t[2])])\n",
    "\n",
    "    return result\n",
    "\n",
    "def dist_map(scanner):\n",
    "    result = []\n",
    "    for i in range(len(scanner)):\n",
    "        result.append(set([distance(scanner[i], j) for j in scanner]))\n",
    "    return result\n",
    "        "
   ]
  },
  {
   "cell_type": "code",
   "execution_count": 141,
   "id": "27423a69-d0b9-4bba-a973-1b06662aa2e3",
   "metadata": {},
   "outputs": [],
   "source": [
    "orientations = np.array([[[-1, 0, 0], [0, -1, 0], [0, 0, 1]],\n",
    "                         [[-1, 0, 0], [0, 0, -1], [0, -1, 0]],\n",
    "                         [[-1, 0, 0], [0, 1, 0], [0, 0, -1]],\n",
    "                         [[-1, 0, 0], [0, 0, 1], [0, 1, 0]],\n",
    "                         [[0, -1, 0], [-1, 0, 0], [0, 0, -1]],\n",
    "                         [[0, 0, 1], [-1, 0, 0], [0, -1, 0]],\n",
    "                         [[0, 1, 0], [-1, 0, 0], [0, 0, 1]],\n",
    "                         [[0, 0, -1], [-1, 0, 0], [0, 1, 0]],\n",
    "                         [[0, -1, 0], [0, 0, 1], [-1, 0, 0]],\n",
    "                         [[0, 0, -1], [0, -1, 0], [-1, 0, 0]],\n",
    "                         [[0, 1, 0], [0, 0, -1], [-1, 0, 0]],\n",
    "                         [[0, 0, 1], [0, 1, 0], [-1, 0, 0]],\n",
    "                         [[1, 0, 0], [0, -1, 0], [0, 0, -1]],\n",
    "                         [[1, 0, 0], [0, 0, 1], [0, -1, 0]],\n",
    "                         [[1, 0, 0], [0, 1, 0], [0, 0, 1]],\n",
    "                         [[1, 0, 0], [0, 0, -1], [0, 1, 0]],\n",
    "                         [[0, -1, 0], [1, 0, 0], [0, 0, 1]],\n",
    "                         [[0, 0, -1], [1, 0, 0], [0, -1, 0]],\n",
    "                         [[0, 1, 0], [1, 0, 0], [0, 0, -1]],\n",
    "                         [[0, 0, 1], [1, 0, 0], [0, 1, 0]],\n",
    "                         [[0, -1, 0], [0, 0, -1], [1, 0, 0]],\n",
    "                         [[0, 0, 1], [0, -1, 0], [1, 0, 0]],\n",
    "                         [[0, 1, 0], [0, 0, 1], [1, 0, 0]],\n",
    "                         [[0, 0, -1], [0, 1, 0], [1, 0, 0]]])"
   ]
  },
  {
   "cell_type": "code",
   "execution_count": 104,
   "id": "62eee8bc-5fc9-42a9-af23-82dba5c1ebbe",
   "metadata": {},
   "outputs": [],
   "source": [
    "scanners = parse_input(\"../inputs/day19_test.txt\")"
   ]
  },
  {
   "cell_type": "code",
   "execution_count": 93,
   "id": "dac7a3f5-7c8c-440e-9a91-866a99288d27",
   "metadata": {
    "tags": []
   },
   "outputs": [],
   "source": [
    "def common_beacons(scanners):\n",
    "    dists = [dist_map(s) for s in scanners]\n",
    "    result = {}\n",
    "    for i in range(len(scanners)):\n",
    "        for j in range(i+1, len(scanners)):\n",
    "            for b1 in range(len(scanners[i])):\n",
    "                for b2 in range(len(scanners[j])):\n",
    "                    if len(dists[i][b1] & dists[j][b2]) >= 12:\n",
    "                        result.setdefault((i, j), set()).add((tuple(scanners[i][b1]), tuple(scanners[j][b2])))\n",
    "    for k in result:\n",
    "        b1 = np.array([b[0] for b in result[k]])\n",
    "        b2 = np.array([b[1] for b in result[k]])\n",
    "        result[k] = (b1, b2)\n",
    "    return result"
   ]
  },
  {
   "cell_type": "code",
   "execution_count": 105,
   "id": "43b35cdf-f682-47d4-b1f6-b7e30e5d2ace",
   "metadata": {},
   "outputs": [],
   "source": [
    "common_beacons_map = common_beacons(scanners)"
   ]
  },
  {
   "cell_type": "code",
   "execution_count": 109,
   "id": "953c14e2-4a29-454c-bf3f-49939d127adc",
   "metadata": {},
   "outputs": [
    {
     "data": {
      "text/plain": [
       "array([[ 404, -588, -901],\n",
       "       [ 528, -643,  409],\n",
       "       [ 459, -707,  401],\n",
       "       [-661, -816, -575],\n",
       "       [ 423, -701,  434],\n",
       "       [-447, -329,  318],\n",
       "       [-485, -357,  347],\n",
       "       [-537, -823, -458],\n",
       "       [-345, -311,  381],\n",
       "       [-618, -824, -621],\n",
       "       [ 390, -675, -793],\n",
       "       [ 544, -627, -890]])"
      ]
     },
     "execution_count": 109,
     "metadata": {},
     "output_type": "execute_result"
    }
   ],
   "source": [
    "common_beacons_map[(0,1)][0]"
   ]
  },
  {
   "cell_type": "code",
   "execution_count": 142,
   "id": "02dd30c1-3fb0-41b7-b292-8dd6051e9702",
   "metadata": {},
   "outputs": [
    {
     "name": "stdout",
     "output_type": "stream",
     "text": [
      "[[-1  0  0]\n",
      " [ 0  1  0]\n",
      " [ 0  0 -1]]\n",
      "[ -68 1246   43]\n"
     ]
    }
   ],
   "source": [
    "for o in orientations:\n",
    "    uniq_dists = np.unique(common_beacons_map[(0,1)][1].dot(o) - common_beacons_map[(0,1)][0], axis=0)\n",
    "    if len(uniq_dists) == 1:\n",
    "        print(o)\n",
    "        print(uniq_dists[0])"
   ]
  }
 ],
 "metadata": {
  "kernelspec": {
   "display_name": "Python 3 (ipykernel)",
   "language": "python",
   "name": "python3"
  },
  "language_info": {
   "codemirror_mode": {
    "name": "ipython",
    "version": 3
   },
   "file_extension": ".py",
   "mimetype": "text/x-python",
   "name": "python",
   "nbconvert_exporter": "python",
   "pygments_lexer": "ipython3",
   "version": "3.9.7"
  }
 },
 "nbformat": 4,
 "nbformat_minor": 5
}
